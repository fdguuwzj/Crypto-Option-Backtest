{
 "cells": [
  {
   "cell_type": "code",
   "execution_count": null,
   "id": "initial_id",
   "metadata": {
    "collapsed": true
   },
   "outputs": [],
   "source": [
    ""
   ]
  },
  {
   "metadata": {
    "ExecuteTime": {
     "end_time": "2024-11-13T16:55:43.940996Z",
     "start_time": "2024-11-13T16:55:42.735671Z"
    }
   },
   "cell_type": "code",
   "source": [
    "import pandas as pd\n",
    "import numpy as np\n",
    "from plotly.subplots import make_subplots\n",
    "\n",
    "from strategies import BackTrader\n",
    "from utils.options_utils import btc_vol_df\n",
    "data = pd.read_pickle('data/btc_option_data_for_trade1105.pkl')\n",
    "# 统计每天的数据条数\n",
    "# daily_counts = data.groupby(data['snapshot_time'].dt.date).size()\n",
    "# print('每日数据条数统计:')\n",
    "# print(daily_counts)\n",
    "# backtrader = BackTrader(initial_capital=60000, strategy='buy_straddle' ,data=data, date_interval=['2024-01-23 00:00:00', '2024-11-05 00:00:00'], fraction=0.001, exe_price_gear=1, mature_gear=0)\n",
    "# backtrader.trade()\n",
    "# backtrader.analyze_trade()\n",
    "\n",
    "# backtrader_buy_straddle = BackTrader(initial_capital=60000, strategy='buy_straddle' ,data=data, date_interval=['2024-01-23 00:00:00', '2024-11-05 00:00:00'], fraction=0.001, exe_price_gear=1, mature_gear=0)\n",
    "# backtrader_buy_straddle.trade()\n",
    "# backtrader_buy_straddle.analyze_trade()\n",
    "# backtrader_sell_straddle = BackTrader(initial_capital=60000, strategy='sell_straddle' ,data=data, date_interval=['2024-01-23 00:00:00', '2024-11-05 00:00:00'], fraction=0.001, exe_price_gear=1, mature_gear=0)\n",
    "# backtrader_sell_straddle.trade()\n",
    "# backtrader_sell_straddle.analyze_trade()\n",
    "#\n",
    "# buy_trade_trails = backtrader_buy_straddle.trade_trails[['current_time','curve']]\n",
    "# sell_trade_trails = backtrader_sell_straddle.trade_trails[['current_time','curve']]\n",
    "# buy_trade_trails.to_csv(r'buy_trade_trails1105.csv')\n",
    "# sell_trade_trails.to_csv(r'sell_trade_trails1105.csv')\n",
    "buy_trade_trails = pd.read_csv(r'buy_trade_trails1105.csv')\n",
    "sell_trade_trails = pd.read_csv(r'data/output/sell_trade_trails1105.csv')\n",
    "\n",
    "\n",
    "\n",
    "up_threshold = 0.008\n",
    "down_threshold = 0.007\n",
    "btc_price = btc_vol_df()[['candle_begin_time', 'open', 'btc_volatility']].rename(columns={'candle_begin_time': 'current_time', 'open': 'btc_price'})\n",
    "buy_trade_trails.drop_duplicates(subset='current_time', keep='first', inplace=True)\n",
    "sell_trade_trails.drop_duplicates(subset='current_time', keep='first', inplace=True)\n",
    "buy_trade_trails['curve_delta'] = buy_trade_trails['curve'].astype(np.float64).pct_change()\n",
    "buy_trade_trails['curve_delta'].fillna(0, inplace=True)\n",
    "sell_trade_trails['curve_delta'] = sell_trade_trails['curve'].astype(np.float64).pct_change()\n",
    "sell_trade_trails['curve_delta'].fillna(0, inplace=True)\n",
    "all_trade_trails = pd.merge(buy_trade_trails, sell_trade_trails, on = 'current_time', suffixes = ['_x', '_y'])\n",
    "all_trade_trails['current_time'] = pd.to_datetime(all_trade_trails['current_time'])\n",
    "all_trade_trails = pd.merge(all_trade_trails, btc_price, on = 'current_time')\n",
    "all_trade_trails['curve_delta'] = np.where(all_trade_trails['btc_volatility'] >= up_threshold, all_trade_trails['curve_delta_y'], np.where(all_trade_trails['btc_volatility'] <= down_threshold, all_trade_trails['curve_delta_x'], 0))\n",
    "all_trade_trails['curve'] = (1+all_trade_trails['curve_delta']).cumprod()\n",
    "all_trade_trails['max2here'] = all_trade_trails['curve'].expanding().max()\n",
    "# 计算到历史最高值到当日的跌幅,draw-down\n",
    "all_trade_trails['dd2here'] = all_trade_trails['curve'] / all_trade_trails['max2here'] - 1\n",
    "import plotly.graph_objects as go\n",
    "\n",
    "# 根据波动率条件分别绘制红色和蓝色曲线\n",
    "high_vol_mask = all_trade_trails['btc_volatility'] >= up_threshold\n",
    "# 分别获取高波动率和低波动率的数据点\n",
    "high_vol_data = all_trade_trails[high_vol_mask]\n",
    "low_vol_data = all_trade_trails[~high_vol_mask]\n",
    "\n",
    "# 创建图形\n",
    "fig = make_subplots(\n",
    "    rows=1, cols=1, shared_xaxes=True, vertical_spacing=0.02,\n",
    "    specs=[\n",
    "        [{\"type\": \"xy\", \"secondary_y\": True}],\n",
    "\n",
    "    ],\n",
    ")\n",
    "# 添加高波动率散点 - 使用主轴\n",
    "fig.add_trace(go.Scatter(\n",
    "    x=all_trade_trails['current_time'],\n",
    "    y=all_trade_trails['curve'],\n",
    "    mode='lines',\n",
    "    name='Curve',\n",
    "    marker=dict(color='green', size=5)\n",
    "))\n",
    "\n",
    "# 添加高波动率散点 - 使用主轴\n",
    "fig.add_trace(go.Scatter(\n",
    "    x=high_vol_data['current_time'],\n",
    "    y=high_vol_data['curve'],\n",
    "    mode='markers',\n",
    "    name='High Volatility Curve',\n",
    "    marker=dict(color='red', size=5)\n",
    "))\n",
    "\n",
    "# 添加低波动率散点 - 使用主轴\n",
    "fig.add_trace(go.Scatter(\n",
    "    x=low_vol_data['current_time'],\n",
    "    y=low_vol_data['curve'],\n",
    "    mode='markers',\n",
    "    name='Low Volatility Curve',\n",
    "    marker=dict(color='blue', size=5),\n",
    "),row=1, col=1,)\n",
    "\n",
    "# 添加最大回撤曲线 - 使用副轴\n",
    "fig.add_trace(\n",
    "    go.Scatter(x=all_trade_trails['current_time'], y=all_trade_trails['dd2here'],\n",
    "               mode='lines',\n",
    "               name='max_drawdown',\n",
    "               fill='tozeroy',  # fill参数设置为'tozeroy'表示填充到 y=0 的水平线\n",
    "               fillcolor='rgba(65,105,225,0.2)',  # 设置填充颜色和透明度\n",
    "               line={'color': 'rgba(65,105,225,0.2)', 'width': 1}),\n",
    "    secondary_y=True, row=1, col=1,\n",
    ")\n",
    "\n",
    "# 更新布局\n",
    "fig.update_layout(\n",
    "    title=f'波动率阈值为{up_threshold}时，资金曲线与最大回撤 (红色: 高波动率, 蓝色: 低波动率)',\n",
    "    xaxis_title='时间',\n",
    "    yaxis_title='净值',\n",
    "    yaxis2=dict(\n",
    "        title='回撤',\n",
    "        overlaying='y',\n",
    "        side='right'\n",
    "    ),\n",
    "    showlegend=True\n",
    ")\n",
    "import plotly.io as pio\n",
    "pio.renderers.default = 'browser'  # 或尝试其他渲染模式\n",
    "fig.show()\n",
    "\n"
   ],
   "id": "5e5e9c94a2e98263",
   "outputs": [],
   "execution_count": 11
  },
  {
   "metadata": {
    "ExecuteTime": {
     "end_time": "2024-11-13T17:33:40.894186Z",
     "start_time": "2024-11-13T17:33:40.594478Z"
    }
   },
   "cell_type": "code",
   "source": [
    "up_threshold = 0.007\n",
    "down_threshold = 0.007\n",
    "btc_price = btc_vol_df()[['candle_begin_time', 'open', 'btc_volatility']].rename(columns={'candle_begin_time': 'current_time', 'open': 'btc_price'})\n",
    "buy_trade_trails.drop_duplicates(subset='current_time', keep='first', inplace=True)\n",
    "sell_trade_trails.drop_duplicates(subset='current_time', keep='first', inplace=True)\n",
    "buy_trade_trails['curve_delta'] = buy_trade_trails['curve'].astype(np.float64).pct_change()\n",
    "buy_trade_trails['curve_delta'].fillna(0, inplace=True)\n",
    "sell_trade_trails['curve_delta'] = sell_trade_trails['curve'].astype(np.float64).pct_change()\n",
    "sell_trade_trails['curve_delta'].fillna(0, inplace=True)\n",
    "all_trade_trails = pd.merge(buy_trade_trails, sell_trade_trails, on = 'current_time', suffixes = ['_x', '_y'])\n",
    "all_trade_trails['current_time'] = pd.to_datetime(all_trade_trails['current_time'])\n",
    "all_trade_trails = pd.merge(all_trade_trails, btc_price, on = 'current_time')\n",
    "all_trade_trails['vol_ma'] = all_trade_trails['btc_volatility'].rolling(2).mean()\n",
    "\n",
    "all_trade_trails['curve_delta'] = np.where(all_trade_trails['vol_ma'] >= up_threshold, all_trade_trails['curve_delta_y'], np.where(all_trade_trails['vol_ma'] <= down_threshold, all_trade_trails['curve_delta_x'], 0))\n",
    "all_trade_trails['curve'] = (1+all_trade_trails['curve_delta']).cumprod()\n",
    "all_trade_trails['max2here'] = all_trade_trails['curve'].expanding().max()\n",
    "# 计算到历史最高值到当日的跌幅,draw-down\n",
    "all_trade_trails['dd2here'] = all_trade_trails['curve'] / all_trade_trails['max2here'] - 1\n",
    "import plotly.graph_objects as go\n",
    "\n",
    "# 根据波动率条件分别绘制红色和蓝色曲线\n",
    "high_vol_mask = all_trade_trails['vol_ma'] >= up_threshold\n",
    "# 分别获取高波动率和低波动率的数据点\n",
    "high_vol_data = all_trade_trails[high_vol_mask]\n",
    "low_vol_data = all_trade_trails[~high_vol_mask]\n",
    "\n",
    "# 创建图形\n",
    "fig = make_subplots(\n",
    "    rows=1, cols=1, shared_xaxes=True, vertical_spacing=0.02,\n",
    "    specs=[\n",
    "        [{\"type\": \"xy\", \"secondary_y\": True}],\n",
    "\n",
    "    ],\n",
    ")\n",
    "# 添加高波动率散点 - 使用主轴\n",
    "fig.add_trace(go.Scatter(\n",
    "    x=all_trade_trails['current_time'],\n",
    "    y=all_trade_trails['curve'],\n",
    "    mode='lines',\n",
    "    name='Curve',\n",
    "    marker=dict(color='green', size=5)\n",
    "))\n",
    "\n",
    "# 添加高波动率散点 - 使用主轴\n",
    "fig.add_trace(go.Scatter(\n",
    "    x=high_vol_data['current_time'],\n",
    "    y=high_vol_data['curve'],\n",
    "    mode='markers',\n",
    "    name='High Volatility Curve',\n",
    "    marker=dict(color='red', size=5)\n",
    "))\n",
    "\n",
    "# 添加低波动率散点 - 使用主轴\n",
    "fig.add_trace(go.Scatter(\n",
    "    x=low_vol_data['current_time'],\n",
    "    y=low_vol_data['curve'],\n",
    "    mode='markers',\n",
    "    name='Low Volatility Curve',\n",
    "    marker=dict(color='blue', size=5),\n",
    "),row=1, col=1,)\n",
    "\n",
    "# 添加最大回撤曲线 - 使用副轴\n",
    "fig.add_trace(\n",
    "    go.Scatter(x=all_trade_trails['current_time'], y=all_trade_trails['dd2here'],\n",
    "               mode='lines',\n",
    "               name='max_drawdown',\n",
    "               fill='tozeroy',  # fill参数设置为'tozeroy'表示填充到 y=0 的水平线\n",
    "               fillcolor='rgba(65,105,225,0.2)',  # 设置填充颜色和透明度\n",
    "               line={'color': 'rgba(65,105,225,0.2)', 'width': 1}),\n",
    "    secondary_y=True, row=1, col=1,\n",
    ")\n",
    "\n",
    "# 更新布局\n",
    "fig.update_layout(\n",
    "    title=f'波动率阈值为{up_threshold}时，资金曲线与最大回撤 (红色: 高波动率, 蓝色: 低波动率)',\n",
    "    xaxis_title='时间',\n",
    "    yaxis_title='净值',\n",
    "    yaxis2=dict(\n",
    "        title='回撤',\n",
    "        overlaying='y',\n",
    "        side='right'\n",
    "    ),\n",
    "    showlegend=True\n",
    ")\n",
    "import plotly.io as pio\n",
    "pio.renderers.default = 'browser'  # 或尝试其他渲染模式\n",
    "fig.show()"
   ],
   "id": "f917935b35debc08",
   "outputs": [],
   "execution_count": 16
  },
  {
   "metadata": {},
   "cell_type": "code",
   "outputs": [],
   "execution_count": null,
   "source": "",
   "id": "739bbff4d4d4aed3"
  },
  {
   "metadata": {
    "ExecuteTime": {
     "end_time": "2025-02-26T16:58:53.273902Z",
     "start_time": "2025-02-26T16:58:53.269897Z"
    }
   },
   "cell_type": "code",
   "source": [
    "from collections import deque\n",
    "\n",
    "# 创建一个最大长度为6的队列\n",
    "queue = deque(maxlen=1)\n",
    "queue\n"
   ],
   "id": "444c60f5c48842dc",
   "outputs": [
    {
     "data": {
      "text/plain": [
       "deque([], maxlen=1)"
      ]
     },
     "execution_count": 13,
     "metadata": {},
     "output_type": "execute_result"
    }
   ],
   "execution_count": 13
  },
  {
   "metadata": {
    "ExecuteTime": {
     "end_time": "2025-02-26T16:58:57.981176Z",
     "start_time": "2025-02-26T16:58:57.977286Z"
    }
   },
   "cell_type": "code",
   "source": [
    "queue.append(4)\n",
    "# 计算队列的均值\n",
    "mean_value = sum(queue) / len(queue)\n",
    "print(\"队列内容:\", queue)  # 输出: 队列内容: deque([1, 2, 3, 4, 5, 6], maxlen=6)\n",
    "print(\"队列均值:\", mean_value)  # 输出: 队列均值: 3.5\n",
    "\n"
   ],
   "id": "fef091df7560eebf",
   "outputs": [
    {
     "name": "stdout",
     "output_type": "stream",
     "text": [
      "队列内容: deque([4], maxlen=1)\n",
      "队列均值: 4.0\n"
     ]
    }
   ],
   "execution_count": 15
  },
  {
   "metadata": {
    "ExecuteTime": {
     "end_time": "2025-02-26T16:55:11.838939Z",
     "start_time": "2025-02-26T16:55:11.836429Z"
    }
   },
   "cell_type": "code",
   "source": "",
   "id": "b11f85c054fdb43e",
   "outputs": [],
   "execution_count": null
  },
  {
   "metadata": {},
   "cell_type": "code",
   "outputs": [],
   "execution_count": null,
   "source": "",
   "id": "e2143d1bcf2b0074"
  }
 ],
 "metadata": {
  "kernelspec": {
   "display_name": "Python 3",
   "language": "python",
   "name": "python3"
  },
  "language_info": {
   "codemirror_mode": {
    "name": "ipython",
    "version": 2
   },
   "file_extension": ".py",
   "mimetype": "text/x-python",
   "name": "python",
   "nbconvert_exporter": "python",
   "pygments_lexer": "ipython2",
   "version": "2.7.6"
  }
 },
 "nbformat": 4,
 "nbformat_minor": 5
}
